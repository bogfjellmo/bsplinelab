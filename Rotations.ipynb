{
 "cells": [
  {
   "cell_type": "code",
   "execution_count": 1,
   "metadata": {
    "collapsed": false,
    "scrolled": false
   },
   "outputs": [
    {
     "data": {
      "application/javascript": [
       "require.undef(\"nbextensions/jquery-ui.custom.min\");"
      ],
      "text/plain": [
       "<IPython.core.display.Javascript object>"
      ]
     },
     "metadata": {},
     "output_type": "display_data"
    },
    {
     "data": {
      "application/javascript": [
       "require.undef(\"nbextensions/glow.2.1.min\");"
      ],
      "text/plain": [
       "<IPython.core.display.Javascript object>"
      ]
     },
     "metadata": {},
     "output_type": "display_data"
    },
    {
     "data": {
      "application/javascript": [
       "require.undef(\"nbextensions/glowcomm\");"
      ],
      "text/plain": [
       "<IPython.core.display.Javascript object>"
      ]
     },
     "metadata": {},
     "output_type": "display_data"
    },
    {
     "data": {
      "application/javascript": [
       "require.undef(\"nbextensions/pako.min\");"
      ],
      "text/plain": [
       "<IPython.core.display.Javascript object>"
      ]
     },
     "metadata": {},
     "output_type": "display_data"
    },
    {
     "data": {
      "application/javascript": [
       "require.undef(\"nbextensions/pako_deflate.min\");"
      ],
      "text/plain": [
       "<IPython.core.display.Javascript object>"
      ]
     },
     "metadata": {},
     "output_type": "display_data"
    },
    {
     "data": {
      "application/javascript": [
       "require.undef(\"nbextensions/pako_inflate.min\");"
      ],
      "text/plain": [
       "<IPython.core.display.Javascript object>"
      ]
     },
     "metadata": {},
     "output_type": "display_data"
    },
    {
     "data": {
      "application/javascript": [
       "require([\"nbextensions/glowcomm\"], function(){console.log(\"glowcomm loaded\");})"
      ],
      "text/plain": [
       "<IPython.core.display.Javascript object>"
      ]
     },
     "metadata": {},
     "output_type": "display_data"
    },
    {
     "data": {
      "text/html": [
       "<div id=\"glowscript\" class=\"glowscript\"></div>"
      ],
      "text/plain": [
       "<IPython.core.display.HTML object>"
      ]
     },
     "metadata": {},
     "output_type": "display_data"
    },
    {
     "data": {
      "application/javascript": [
       "window.__context = { glowscript_container: $(\"#glowscript\").removeAttr(\"id\")}"
      ],
      "text/plain": [
       "<IPython.core.display.Javascript object>"
      ]
     },
     "metadata": {},
     "output_type": "display_data"
    },
    {
     "name": "stdout",
     "output_type": "stream",
     "text": [
      "#iterations: 66\n",
      "Error: 1.12486032988e-14\n"
     ]
    }
   ],
   "source": [
    "from __future__ import division\n",
    "import numpy as np\n",
    "from bspline import geometry\n",
    "from bspline.c2spline import implicitc2spline\n",
    "import bspline.plotting as splt\n",
    "from mpl_toolkits.mplot3d import Axes3D\n",
    "import matplotlib.pyplot as plt\n",
    "from vpython import *\n",
    "\n",
    "def rotate(q, x): #rotate x as specified by unit quaternion q:\n",
    "    return x+2*q[...,0]*np.cross(q[...,1:],x)+2*np.cross(q[...,1:], np.cross(q[...,1:],x))\n",
    "\n",
    "def vpyvec(v):\n",
    "    return vec(v[0], v[1], v[2])\n",
    "\n",
    "N=4\n",
    "#interpolation_points =np.random.randn(N, 4)\n",
    "\n",
    "interpolation_points=np.array([[1,0,0,0], [0,0,0,1], [0,0,1,0], [0,1,0,0]])\n",
    "interpolation_points = interpolation_points/np.array([np.linalg.norm(interpolation_points, axis=1)]).T\n",
    "#initial and end velocities:\n",
    "init_vel = np.zeros(4)\n",
    "end_vel = np.zeros(4)\n",
    "boundary_velocities=np.array([init_vel, end_vel])\n",
    "\n",
    "\n",
    "b= implicitc2spline(interpolation_points, geometry=geometry.Sphere_geometry(), Maxiter=10000)"
   ]
  },
  {
   "cell_type": "code",
   "execution_count": 2,
   "metadata": {
    "collapsed": false
   },
   "outputs": [],
   "source": [
    "x0 = np.array([1,0,0])\n",
    "y0 = np.array([0,1,0])\n",
    "z0 = np.array([0,0,1])\n",
    "\n",
    "myobject = box()\n",
    "myobject.pos=vec(0,0,0)\n",
    "myobject.axis=vpyvec(x0)\n",
    "myobject.up=vpyvec(y0)\n",
    "myobject.color=color.green\n",
    "myobject.align= 'center'\n",
    "myobject.length=1\n",
    "myobject.height=0.3\n",
    "myobject.width=0.5\n",
    "#thisx = arrow(pos=vec(0,0,0), axis=myvec(x0), color=color.red)\n",
    "#thisy = arrow(pos=vec(0,0,0), axis=myvec(y0), color=color.blue)\n",
    "#thisz = arrow(pos=vec(0,0,0), axis=myvec(z0), color=color.green)\n",
    "ts = np.linspace(0.,N-1,(N-1)*100)\n",
    "scene.range = 1.5\n",
    "scene.autoscale = False\n",
    "for t in ts:\n",
    "    rate(30)\n",
    "    q = b(t)\n",
    "    #thisx.axis=vpyvec(rotate(q, x0))\n",
    "    #thisy.axis=vpyvec(rotate(q, y0))\n",
    "    #thisz.axis=vpyvec(rotate(q, z0))\n",
    "    myobject.axis=vpyvec(rotate(q,x0))\n",
    "    myobject.up = vpyvec(rotate(q,y0))"
   ]
  },
  {
   "cell_type": "code",
   "execution_count": null,
   "metadata": {
    "collapsed": true
   },
   "outputs": [],
   "source": []
  }
 ],
 "metadata": {
  "kernelspec": {
   "display_name": "VPython",
   "language": "python",
   "name": "vpython"
  },
  "language_info": {
   "codemirror_mode": {
    "name": "ipython",
    "version": 3
   },
   "file_extension": ".py",
   "mimetype": "text/x-python",
   "name": "python",
   "nbconvert_exporter": "python",
   "pygments_lexer": "ipython3",
   "version": "3.5.1"
  }
 },
 "nbformat": 4,
 "nbformat_minor": 0
}
